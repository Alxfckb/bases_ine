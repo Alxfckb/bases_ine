{
 "cells": [
  {
   "cell_type": "code",
<<<<<<< HEAD
   "execution_count": 93,
=======
   "execution_count": 63,
>>>>>>> afcfc0b1cc48a93d22b352a4f6701d3963ff281f
   "metadata": {
    "id": "-osrZP0Pb4Jl"
   },
   "outputs": [],
   "source": [
<<<<<<< HEAD
    "import pandas as pd "
=======
    "import pandas as pd"
>>>>>>> afcfc0b1cc48a93d22b352a4f6701d3963ff281f
   ]
  },
  {
   "cell_type": "code",
<<<<<<< HEAD
   "execution_count": 94,
=======
   "execution_count": 64,
>>>>>>> afcfc0b1cc48a93d22b352a4f6701d3963ff281f
   "metadata": {
    "id": "m0P2KCvIHouN"
   },
   "outputs": [],
   "source": [
<<<<<<< HEAD
    "#llamar los datos de periodicidad\n",
=======
    "# Llamar los datos de periodicidad\n",
>>>>>>> afcfc0b1cc48a93d22b352a4f6701d3963ff281f
    "per_oct = pd.read_excel('FUENTES IPC - PERIODICIDAD.xlsx', sheet_name='PER_OCT_2022', dtype=str, usecols = ['ID_INE','Periodicidad'])\n",
    "per_nov = pd.read_excel('FUENTES IPC - PERIODICIDAD.xlsx', sheet_name='PER_NOV_2022', dtype=str, usecols = ['ID_INE','Periodicidad'])\n",
    "per_dic = pd.read_excel('FUENTES IPC - PERIODICIDAD.xlsx', sheet_name='PER_DIC_2022', dtype=str, usecols = ['ID_INE','Periodicidad'])\n",
    "per_ene = pd.read_excel('FUENTES IPC - PERIODICIDAD.xlsx', sheet_name='PER_ENE_2023', dtype=str, usecols = ['ID_INE','Periodicidad'])"
   ]
  },
  {
   "cell_type": "code",
<<<<<<< HEAD
   "execution_count": 95,
   "metadata": {
    "id": "lK9nRANSHuqj"
   },
   "outputs": [],
   "source": [
    "#une las bases de datos y escribe un nuevo archivo\n",
    "archivos = [per_oct,per_nov,per_dic,per_ene]\n",
    "periodicidad = pd.concat(archivos,ignore_index=True).drop_duplicates(subset = ['ID_INE']).reset_index()"
   ]
  },
  {
   "cell_type": "code",
   "execution_count": 96,
   "metadata": {
    "colab": {
     "base_uri": "https://localhost:8080/"
    },
    "id": "SsO1taWCIQPj",
    "outputId": "e435a41b-bd0e-4ebf-8c18-6e672ae5d7cb"
   },
   "outputs": [
    {
     "name": "stdout",
     "output_type": "stream",
     "text": [
      "       index Periodicidad          ID_INE\n",
      "0          0           01    01.01.01.17.\n",
      "1          1           01    01.01.01.35.\n",
      "2          2           03    01.01.01.48.\n",
      "3          3           01    01.01.01.50.\n",
      "4          4           03    01.01.01.60.\n",
      "...      ...          ...             ...\n",
      "13558  30401           05  08.17.03.2141.\n",
      "13559  30442           05  08.17.03.2553.\n",
      "13560  30443           01  08.17.03.2554.\n",
      "13561  30518           03  08.17.03.9151.\n",
      "13562  30519           03  08.17.03.9152.\n",
      "\n",
      "[13563 rows x 3 columns]\n",
      "<class 'pandas.core.frame.DataFrame'>\n",
      "RangeIndex: 13563 entries, 0 to 13562\n",
      "Data columns (total 3 columns):\n",
      " #   Column        Non-Null Count  Dtype \n",
      "---  ------        --------------  ----- \n",
      " 0   index         13563 non-null  int64 \n",
      " 1   Periodicidad  13563 non-null  object\n",
      " 2   ID_INE        13563 non-null  object\n",
      "dtypes: int64(1), object(2)\n",
      "memory usage: 318.0+ KB\n",
      "None\n"
     ]
    }
   ],
   "source": [
    "print(periodicidad)\n",
    "print(periodicidad.info())"
   ]
  },
  {
   "cell_type": "code",
   "execution_count": 97,
   "metadata": {
    "id": "OTdFkYyndLsq",
    "scrolled": true
   },
   "outputs": [],
   "source": [
    "#Georeferenciacion de octubre 2022 a enero 2023\n",
=======
   "execution_count": 65,
   "metadata": {
    "id": "OTdFkYyndLsq"
   },
   "outputs": [],
   "source": [
    "# Georeferenciacion de octubre 2022 a enero 2023\n",
>>>>>>> afcfc0b1cc48a93d22b352a4f6701d3963ff281f
    "geo_oct = pd.read_excel('FUENTES IPC - GEO.xlsx', sheet_name = 'GEO-OCT-2022',dtype=str, usecols = [\"ID_INE\"]) \n",
    "geo_nov = pd.read_excel('FUENTES IPC - GEO.xlsx', sheet_name = 'GEO-NOV-2022',dtype=str, usecols = [\"ID_INE\"]) \n",
    "geo_dic = pd.read_excel('FUENTES IPC - GEO.xlsx', sheet_name = 'GEO-DIC-2022',dtype=str, usecols = [\"ID_INE\"]) \n",
    "geo_en  = pd.read_excel('FUENTES IPC - GEO.xlsx', sheet_name = 'GEO_ENE_2023',dtype=str, usecols = [\"ID_INE\"]) "
   ]
  },
  {
   "cell_type": "code",
<<<<<<< HEAD
   "execution_count": 98,
   "metadata": {
    "colab": {
     "base_uri": "https://localhost:8080/"
    },
    "id": "7vJPvVX5Koe0",
    "outputId": "2d2207b2-3313-46bd-db70-669abecf7b9d"
   },
   "outputs": [
    {
     "name": "stdout",
     "output_type": "stream",
     "text": [
      "<class 'pandas.core.frame.DataFrame'>\n",
      "RangeIndex: 3923 entries, 0 to 3922\n",
      "Data columns (total 1 columns):\n",
      " #   Column  Non-Null Count  Dtype \n",
      "---  ------  --------------  ----- \n",
      " 0   ID_INE  3923 non-null   object\n",
      "dtypes: object(1)\n",
      "memory usage: 30.8+ KB\n"
     ]
    }
   ],
   "source": [
    "geo_oct.info()"
   ]
  },
  {
   "cell_type": "code",
   "execution_count": 99,
   "metadata": {
    "id": "nCeJ6gG-JSmO"
   },
   "outputs": [],
   "source": [
    "# Lista de georeferenciadas\n",
    "georef = [geo_oct,geo_nov,geo_dic,geo_en]"
   ]
  },
  {
   "cell_type": "code",
   "execution_count": 100,
   "metadata": {
    "id": "57sp3ADUJn6j"
   },
   "outputs": [],
   "source": [
    "geo_new = pd.concat(georef, ignore_index=True).drop_duplicates(subset = ['ID_INE']).reset_index()"
   ]
  },
  {
   "cell_type": "code",
   "execution_count": 101,
   "metadata": {
    "colab": {
     "base_uri": "https://localhost:8080/",
     "height": 424
    },
    "id": "_TEihuRuMWPz",
    "outputId": "69469894-b986-4bd6-8bd3-c86c3c738c82"
   },
   "outputs": [
    {
     "data": {
      "text/html": [
       "<div>\n",
       "<style scoped>\n",
       "    .dataframe tbody tr th:only-of-type {\n",
       "        vertical-align: middle;\n",
       "    }\n",
       "\n",
       "    .dataframe tbody tr th {\n",
       "        vertical-align: top;\n",
       "    }\n",
       "\n",
       "    .dataframe thead th {\n",
       "        text-align: right;\n",
       "    }\n",
       "</style>\n",
       "<table border=\"1\" class=\"dataframe\">\n",
       "  <thead>\n",
       "    <tr style=\"text-align: right;\">\n",
       "      <th></th>\n",
       "      <th>index</th>\n",
       "      <th>ID_INE</th>\n",
       "    </tr>\n",
       "  </thead>\n",
       "  <tbody>\n",
       "    <tr>\n",
       "      <th>0</th>\n",
       "      <td>0</td>\n",
       "      <td>01.01.01.5622.</td>\n",
       "    </tr>\n",
       "    <tr>\n",
       "      <th>1</th>\n",
       "      <td>1</td>\n",
       "      <td>01.01.01.171.</td>\n",
       "    </tr>\n",
       "    <tr>\n",
       "      <th>2</th>\n",
       "      <td>2</td>\n",
       "      <td>01.01.01.376.</td>\n",
       "    </tr>\n",
       "    <tr>\n",
       "      <th>3</th>\n",
       "      <td>3</td>\n",
       "      <td>01.01.01.5697.</td>\n",
       "    </tr>\n",
       "    <tr>\n",
       "      <th>4</th>\n",
       "      <td>4</td>\n",
       "      <td>01.01.01.8991.</td>\n",
       "    </tr>\n",
       "    <tr>\n",
       "      <th>...</th>\n",
       "      <td>...</td>\n",
       "      <td>...</td>\n",
       "    </tr>\n",
       "    <tr>\n",
       "      <th>6759</th>\n",
       "      <td>7148</td>\n",
       "      <td>06.10.01.10007.</td>\n",
       "    </tr>\n",
       "    <tr>\n",
       "      <th>6760</th>\n",
       "      <td>7149</td>\n",
       "      <td>06.10.01.10009.</td>\n",
       "    </tr>\n",
       "    <tr>\n",
       "      <th>6761</th>\n",
       "      <td>7151</td>\n",
       "      <td>06.10.01.10032.</td>\n",
       "    </tr>\n",
       "    <tr>\n",
       "      <th>6762</th>\n",
       "      <td>7152</td>\n",
       "      <td>03.18.01.10042.</td>\n",
       "    </tr>\n",
       "    <tr>\n",
       "      <th>6763</th>\n",
       "      <td>7154</td>\n",
       "      <td>06.10.01.10062.</td>\n",
       "    </tr>\n",
       "  </tbody>\n",
       "</table>\n",
       "<p>6764 rows × 2 columns</p>\n",
       "</div>"
      ],
      "text/plain": [
       "      index           ID_INE\n",
       "0         0   01.01.01.5622.\n",
       "1         1    01.01.01.171.\n",
       "2         2    01.01.01.376.\n",
       "3         3   01.01.01.5697.\n",
       "4         4   01.01.01.8991.\n",
       "...     ...              ...\n",
       "6759   7148  06.10.01.10007.\n",
       "6760   7149  06.10.01.10009.\n",
       "6761   7151  06.10.01.10032.\n",
       "6762   7152  03.18.01.10042.\n",
       "6763   7154  06.10.01.10062.\n",
       "\n",
       "[6764 rows x 2 columns]"
      ]
     },
     "execution_count": 101,
     "metadata": {},
     "output_type": "execute_result"
    }
   ],
   "source": [
    "geo_new"
   ]
  },
  {
   "cell_type": "code",
   "execution_count": 102,
=======
   "execution_count": 66,
>>>>>>> afcfc0b1cc48a93d22b352a4f6701d3963ff281f
   "metadata": {
    "id": "uhUkZ0b1eR3w"
   },
   "outputs": [],
   "source": [
    "# Fuentes asignadas de octubre 2022 a enero 2023\n",
    "fuentes_oct = pd.read_excel('FUENTES IPC - ASIGNADAS.xlsx', sheet_name = 'FUENTES-OCT-2022',dtype=str, usecols=[\"RegCod\",\"DepCod\",\"MunCod\",\"FntCod\",\"NOMBRE_FUENTE\",\"DIRECCION\",\"CANTIDAD_ARTICULOS\"]) \n",
    "fuentes_nov = pd.read_excel('FUENTES IPC - ASIGNADAS.xlsx', sheet_name = 'FUENTES-NOV-2022',dtype=str, usecols=[\"RegCod\",\"DepCod\",\"MunCod\",\"FntCod\",\"NOMBRE_FUENTE\",\"DIRECCION\",\"CANTIDAD_ARTICULOS\"])  \n",
    "fuentes_dic = pd.read_excel('FUENTES IPC - ASIGNADAS.xlsx', sheet_name = 'FUENTES-DIC-2022',dtype=str, usecols=[\"RegCod\",\"DepCod\",\"MunCod\",\"FntCod\",\"NOMBRE_FUENTE\",\"DIRECCION\",\"CANTIDAD_ARTICULOS\"])  \n",
    "fuentes_en  = pd.read_excel('FUENTES IPC - ASIGNADAS.xlsx', sheet_name = 'FUENTES-ENE-2023',dtype=str, usecols=[\"RegCod\",\"DepCod\",\"MunCod\",\"FntCod\",\"NOMBRE_FUENTE\",\"DIRECCION\",\"CANTIDAD_ARTICULOS\"])  "
   ]
  },
  {
   "cell_type": "code",
<<<<<<< HEAD
   "execution_count": 103,
=======
   "execution_count": 67,
   "metadata": {
    "id": "lK9nRANSHuqj"
   },
   "outputs": [],
   "source": [
    "# Unir las bases de datos y escribe un nuevo dataframe\n",
    "archivos = [per_oct,per_nov,per_dic,per_ene]\n",
    "periodicidad = pd.concat(archivos,ignore_index=True).drop_duplicates(subset = ['ID_INE']).reset_index()"
   ]
  },
  {
   "cell_type": "code",
   "execution_count": 68,
   "metadata": {
    "id": "nCeJ6gG-JSmO"
   },
   "outputs": [],
   "source": [
    "# Lista de georeferenciadas\n",
    "georef = [geo_oct,geo_nov,geo_dic,geo_en]"
   ]
  },
  {
   "cell_type": "code",
   "execution_count": 69,
   "metadata": {
    "id": "57sp3ADUJn6j"
   },
   "outputs": [],
   "source": [
    "# Nuevo dataframe de georeferenciados \n",
    "geo_new = pd.concat(georef, ignore_index=True).drop_duplicates(subset = ['ID_INE']).reset_index()"
   ]
  },
  {
   "cell_type": "code",
   "execution_count": 70,
>>>>>>> afcfc0b1cc48a93d22b352a4f6701d3963ff281f
   "metadata": {
    "id": "36VFWCucnLGA"
   },
   "outputs": [],
   "source": [
    "#Lista de fuentes asignadas \n",
    "fuentes = [fuentes_oct, fuentes_nov, fuentes_dic, fuentes_en]"
   ]
  },
  {
   "cell_type": "code",
<<<<<<< HEAD
   "execution_count": 104,
=======
   "execution_count": 71,
>>>>>>> afcfc0b1cc48a93d22b352a4f6701d3963ff281f
   "metadata": {
    "id": "w-MFIlc0pTiQ"
   },
   "outputs": [],
   "source": [
<<<<<<< HEAD
    "# Agregar ID_INE en fuentes asignadas\n",
    "for fuente in fuentes:\n",
    "    fuente.insert(7,\"ID_INE\",fuente.RegCod+\".\"+fuente.DepCod+\".\"+fuente.MunCod+\".\"+fuente.FntCod+\".\")\n"
=======
    "# Agregar ID_INE en fuentes asignadas (no tenian en la primera version)\n",
    "for fuente in fuentes:\n",
    "    fuente.insert(7,\"ID_INE\",fuente.RegCod+\".\"+fuente.DepCod+\".\"+fuente.MunCod+\".\"+fuente.FntCod+\".\")"
>>>>>>> afcfc0b1cc48a93d22b352a4f6701d3963ff281f
   ]
  },
  {
   "cell_type": "code",
<<<<<<< HEAD
   "execution_count": 105,
=======
   "execution_count": 72,
>>>>>>> afcfc0b1cc48a93d22b352a4f6701d3963ff281f
   "metadata": {
    "id": "AZerxdqX0Uym"
   },
   "outputs": [],
   "source": [
<<<<<<< HEAD
=======
    "# Nuevo dataframe de fuentes asignadas \n",
>>>>>>> afcfc0b1cc48a93d22b352a4f6701d3963ff281f
    "fuentes_new = pd.concat(fuentes, ignore_index=True).drop_duplicates(subset = ['ID_INE']).reset_index()"
   ]
  },
  {
   "cell_type": "code",
<<<<<<< HEAD
   "execution_count": 112,
   "metadata": {
    "colab": {
     "base_uri": "https://localhost:8080/"
    },
    "id": "bVLhIiaQKlDM",
    "outputId": "13d8b808-6a15-4b3c-bfdb-3cae3a487643"
   },
=======
   "execution_count": 73,
   "metadata": {
    "id": "qdW6ApmXNbJT"
   },
   "outputs": [],
   "source": [
    "# Extraer fuentes no georeferenciadas\n",
    "fuentes_new.drop(fuentes_new[fuentes_new.ID_INE.isin(geo_new.ID_INE) ].index, inplace = True)\n",
    "fuentes_new = fuentes_new.reset_index()"
   ]
  },
  {
   "cell_type": "code",
   "execution_count": 74,
   "metadata": {
    "id": "C4Z22wA0g00h"
   },
   "outputs": [],
   "source": [
    "# Añadir peridicidad al dataframe\n",
    "fuentes_new = fuentes_new.merge(periodicidad,how = 'left', on = 'ID_INE')"
   ]
  },
  {
   "cell_type": "code",
   "execution_count": 75,
   "metadata": {},
>>>>>>> afcfc0b1cc48a93d22b352a4f6701d3963ff281f
   "outputs": [
    {
     "name": "stdout",
     "output_type": "stream",
     "text": [
      "<class 'pandas.core.frame.DataFrame'>\n",
<<<<<<< HEAD
      "Int64Index: 6151 entries, 0 to 6150\n",
      "Data columns (total 13 columns):\n",
      " #   Column              Non-Null Count  Dtype  \n",
      "---  ------              --------------  -----  \n",
      " 0   index               6151 non-null   int64  \n",
      " 1   level_0             6151 non-null   int64  \n",
      " 2   index_x             6151 non-null   int64  \n",
      " 3   RegCod              6150 non-null   object \n",
      " 4   DepCod              6151 non-null   object \n",
      " 5   MunCod              6151 non-null   object \n",
      " 6   FntCod              6151 non-null   object \n",
      " 7   NOMBRE_FUENTE       6151 non-null   object \n",
      " 8   DIRECCION           6151 non-null   object \n",
      " 9   CANTIDAD_ARTICULOS  6151 non-null   object \n",
      " 10  ID_INE              6150 non-null   object \n",
      " 11  index_y             6110 non-null   float64\n",
      " 12  Periodicidad        6110 non-null   object \n",
      "dtypes: float64(1), int64(3), object(9)\n",
      "memory usage: 672.8+ KB\n"
=======
      "Int64Index: 6166 entries, 0 to 6165\n",
      "Data columns (total 12 columns):\n",
      " #   Column              Non-Null Count  Dtype  \n",
      "---  ------              --------------  -----  \n",
      " 0   level_0             6166 non-null   int64  \n",
      " 1   index_x             6166 non-null   int64  \n",
      " 2   RegCod              6165 non-null   object \n",
      " 3   DepCod              6166 non-null   object \n",
      " 4   MunCod              6166 non-null   object \n",
      " 5   FntCod              6166 non-null   object \n",
      " 6   NOMBRE_FUENTE       6166 non-null   object \n",
      " 7   DIRECCION           6166 non-null   object \n",
      " 8   CANTIDAD_ARTICULOS  6166 non-null   object \n",
      " 9   ID_INE              6165 non-null   object \n",
      " 10  index_y             6125 non-null   float64\n",
      " 11  Periodicidad        6125 non-null   object \n",
      "dtypes: float64(1), int64(2), object(9)\n",
      "memory usage: 626.2+ KB\n"
>>>>>>> afcfc0b1cc48a93d22b352a4f6701d3963ff281f
     ]
    }
   ],
   "source": [
    "fuentes_new.info()"
   ]
  },
  {
   "cell_type": "code",
<<<<<<< HEAD
   "execution_count": 107,
   "metadata": {
    "id": "qdW6ApmXNbJT"
   },
   "outputs": [],
   "source": [
    "fuentes_new.drop(fuentes_new[fuentes_new.ID_INE.isin(geo_new.ID_INE) ].index, inplace = True)\n",
    "fuentes_new = fuentes_new.reset_index()"
=======
   "execution_count": 76,
   "metadata": {
    "id": "_-T82gltF534"
   },
   "outputs": [],
   "source": [
    "# Eliminar duplicados por nombre y dirección\n",
    "fuentes_new = fuentes_new.sort_values([\"Periodicidad\"]).drop_duplicates(subset = [\"NOMBRE_FUENTE\",\"DIRECCION\"],keep=\"first\")"
>>>>>>> afcfc0b1cc48a93d22b352a4f6701d3963ff281f
   ]
  },
  {
   "cell_type": "code",
<<<<<<< HEAD
   "execution_count": 108,
   "metadata": {
    "id": "C4Z22wA0g00h"
   },
   "outputs": [],
   "source": [
    "fuentes_new = fuentes_new.merge(periodicidad,how = 'left', on = 'ID_INE')"
=======
   "execution_count": 77,
   "metadata": {
    "id": "nXt2NY90XBdh"
   },
   "outputs": [],
   "source": [
    "# Escribir nuevo documento de excel\n",
    "cols = ['ID_INE','RegCod','DepCod','MunCod','FntCod','NOMBRE_FUENTE','DIRECCION','CANTIDAD_ARTICULOS','Periodicidad']\n",
    "fuentes_new.to_excel('fuentes_faltan.xlsx', columns=cols, index = False)"
>>>>>>> afcfc0b1cc48a93d22b352a4f6701d3963ff281f
   ]
  },
  {
   "cell_type": "code",
<<<<<<< HEAD
   "execution_count": 111,
   "metadata": {},
   "outputs": [],
   "source": [
    "fuentes_new.drop_duplicates(subset = [\"NOMBRE_FUENTE\",\"DIRECCION\"],keep=\"first\", inplace=True)"
   ]
  },
  {
   "cell_type": "code",
   "execution_count": 110,
   "metadata": {
    "id": "q2Uc69ynW-ox"
   },
   "outputs": [],
   "source": [
    "#fuentes_new.to_excel('fuentes_faltan.xlsx')"
   ]
  },
  {
   "cell_type": "code",
   "execution_count": 113,
   "metadata": {},
=======
   "execution_count": 78,
   "metadata": {
    "scrolled": true
   },
>>>>>>> afcfc0b1cc48a93d22b352a4f6701d3963ff281f
   "outputs": [
    {
     "name": "stdout",
     "output_type": "stream",
     "text": [
      "<class 'pandas.core.frame.DataFrame'>\n",
<<<<<<< HEAD
      "Int64Index: 6151 entries, 0 to 6150\n",
      "Data columns (total 13 columns):\n",
      " #   Column              Non-Null Count  Dtype  \n",
      "---  ------              --------------  -----  \n",
      " 0   index               6151 non-null   int64  \n",
      " 1   level_0             6151 non-null   int64  \n",
      " 2   index_x             6151 non-null   int64  \n",
      " 3   RegCod              6150 non-null   object \n",
      " 4   DepCod              6151 non-null   object \n",
      " 5   MunCod              6151 non-null   object \n",
      " 6   FntCod              6151 non-null   object \n",
      " 7   NOMBRE_FUENTE       6151 non-null   object \n",
      " 8   DIRECCION           6151 non-null   object \n",
      " 9   CANTIDAD_ARTICULOS  6151 non-null   object \n",
      " 10  ID_INE              6150 non-null   object \n",
      " 11  index_y             6110 non-null   float64\n",
      " 12  Periodicidad        6110 non-null   object \n",
      "dtypes: float64(1), int64(3), object(9)\n",
      "memory usage: 672.8+ KB\n"
=======
      "Int64Index: 6151 entries, 0 to 6148\n",
      "Data columns (total 12 columns):\n",
      " #   Column              Non-Null Count  Dtype  \n",
      "---  ------              --------------  -----  \n",
      " 0   level_0             6151 non-null   int64  \n",
      " 1   index_x             6151 non-null   int64  \n",
      " 2   RegCod              6150 non-null   object \n",
      " 3   DepCod              6151 non-null   object \n",
      " 4   MunCod              6151 non-null   object \n",
      " 5   FntCod              6151 non-null   object \n",
      " 6   NOMBRE_FUENTE       6151 non-null   object \n",
      " 7   DIRECCION           6151 non-null   object \n",
      " 8   CANTIDAD_ARTICULOS  6151 non-null   object \n",
      " 9   ID_INE              6150 non-null   object \n",
      " 10  index_y             6115 non-null   float64\n",
      " 11  Periodicidad        6115 non-null   object \n",
      "dtypes: float64(1), int64(2), object(9)\n",
      "memory usage: 624.7+ KB\n"
>>>>>>> afcfc0b1cc48a93d22b352a4f6701d3963ff281f
     ]
    }
   ],
   "source": [
<<<<<<< HEAD
    "fuentes_new.NOMBRE_FUENTE"
=======
    "fuentes_new.info()"
>>>>>>> afcfc0b1cc48a93d22b352a4f6701d3963ff281f
   ]
  },
  {
   "cell_type": "code",
   "execution_count": null,
   "metadata": {},
   "outputs": [],
   "source": []
  }
 ],
 "metadata": {
  "colab": {
   "provenance": []
  },
  "kernelspec": {
   "display_name": "Python 3 (ipykernel)",
   "language": "python",
   "name": "python3"
  },
  "language_info": {
   "codemirror_mode": {
    "name": "ipython",
    "version": 3
   },
   "file_extension": ".py",
   "mimetype": "text/x-python",
   "name": "python",
   "nbconvert_exporter": "python",
   "pygments_lexer": "ipython3",
<<<<<<< HEAD
   "version": "3.10.8"
=======
   "version": "3.11.1"
>>>>>>> afcfc0b1cc48a93d22b352a4f6701d3963ff281f
  }
 },
 "nbformat": 4,
 "nbformat_minor": 1
}
