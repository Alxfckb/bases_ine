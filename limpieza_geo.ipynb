{
 "cells": [
  {
   "cell_type": "code",
   "execution_count": 63,
   "metadata": {
    "id": "-osrZP0Pb4Jl"
   },
   "outputs": [],
   "source": [
    "import pandas as pd"
   ]
  },
  {
   "cell_type": "code",
   "execution_count": 64,
   "metadata": {
    "id": "m0P2KCvIHouN"
   },
   "outputs": [],
   "source": [
    "# Llamar los datos de periodicidad\n",
    "per_oct = pd.read_excel('FUENTES IPC - PERIODICIDAD.xlsx', sheet_name='PER_OCT_2022', dtype=str, usecols = ['ID_INE','Periodicidad'])\n",
    "per_nov = pd.read_excel('FUENTES IPC - PERIODICIDAD.xlsx', sheet_name='PER_NOV_2022', dtype=str, usecols = ['ID_INE','Periodicidad'])\n",
    "per_dic = pd.read_excel('FUENTES IPC - PERIODICIDAD.xlsx', sheet_name='PER_DIC_2022', dtype=str, usecols = ['ID_INE','Periodicidad'])\n",
    "per_ene = pd.read_excel('FUENTES IPC - PERIODICIDAD.xlsx', sheet_name='PER_ENE_2023', dtype=str, usecols = ['ID_INE','Periodicidad'])"
   ]
  },
  {
   "cell_type": "code",
   "execution_count": 65,
   "metadata": {
    "id": "OTdFkYyndLsq"
   },
   "outputs": [],
   "source": [
    "# Georeferenciacion de octubre 2022 a enero 2023\n",
    "geo_oct = pd.read_excel('FUENTES IPC - GEO.xlsx', sheet_name = 'GEO-OCT-2022',dtype=str, usecols = [\"ID_INE\"]) \n",
    "geo_nov = pd.read_excel('FUENTES IPC - GEO.xlsx', sheet_name = 'GEO-NOV-2022',dtype=str, usecols = [\"ID_INE\"]) \n",
    "geo_dic = pd.read_excel('FUENTES IPC - GEO.xlsx', sheet_name = 'GEO-DIC-2022',dtype=str, usecols = [\"ID_INE\"]) \n",
    "geo_en  = pd.read_excel('FUENTES IPC - GEO.xlsx', sheet_name = 'GEO_ENE_2023',dtype=str, usecols = [\"ID_INE\"]) "
   ]
  },
  {
   "cell_type": "code",
   "execution_count": 66,
   "metadata": {
    "id": "uhUkZ0b1eR3w"
   },
   "outputs": [],
   "source": [
    "# Fuentes asignadas de octubre 2022 a enero 2023\n",
    "fuentes_oct = pd.read_excel('FUENTES IPC - ASIGNADAS.xlsx', sheet_name = 'FUENTES-OCT-2022',dtype=str, usecols=[\"RegCod\",\"DepCod\",\"MunCod\",\"FntCod\",\"NOMBRE_FUENTE\",\"DIRECCION\",\"CANTIDAD_ARTICULOS\"]) \n",
    "fuentes_nov = pd.read_excel('FUENTES IPC - ASIGNADAS.xlsx', sheet_name = 'FUENTES-NOV-2022',dtype=str, usecols=[\"RegCod\",\"DepCod\",\"MunCod\",\"FntCod\",\"NOMBRE_FUENTE\",\"DIRECCION\",\"CANTIDAD_ARTICULOS\"])  \n",
    "fuentes_dic = pd.read_excel('FUENTES IPC - ASIGNADAS.xlsx', sheet_name = 'FUENTES-DIC-2022',dtype=str, usecols=[\"RegCod\",\"DepCod\",\"MunCod\",\"FntCod\",\"NOMBRE_FUENTE\",\"DIRECCION\",\"CANTIDAD_ARTICULOS\"])  \n",
    "fuentes_en  = pd.read_excel('FUENTES IPC - ASIGNADAS.xlsx', sheet_name = 'FUENTES-ENE-2023',dtype=str, usecols=[\"RegCod\",\"DepCod\",\"MunCod\",\"FntCod\",\"NOMBRE_FUENTE\",\"DIRECCION\",\"CANTIDAD_ARTICULOS\"])  "
   ]
  },
  {
   "cell_type": "code",
   "execution_count": 67,
   "metadata": {
    "id": "lK9nRANSHuqj"
   },
   "outputs": [],
   "source": [
    "# Unir las bases de datos y escribe un nuevo dataframe\n",
    "archivos = [per_oct,per_nov,per_dic,per_ene]\n",
    "periodicidad = pd.concat(archivos,ignore_index=True).drop_duplicates(subset = ['ID_INE']).reset_index()"
   ]
  },
  {
   "cell_type": "code",
   "execution_count": 68,
   "metadata": {
    "id": "nCeJ6gG-JSmO"
   },
   "outputs": [],
   "source": [
    "# Lista de georeferenciadas\n",
    "georef = [geo_oct,geo_nov,geo_dic,geo_en]"
   ]
  },
  {
   "cell_type": "code",
   "execution_count": 69,
   "metadata": {
    "id": "57sp3ADUJn6j"
   },
   "outputs": [],
   "source": [
    "# Nuevo dataframe de georeferenciados \n",
    "geo_new = pd.concat(georef, ignore_index=True).drop_duplicates(subset = ['ID_INE']).reset_index()"
   ]
  },
  {
   "cell_type": "code",
   "execution_count": 70,
   "metadata": {
    "id": "36VFWCucnLGA"
   },
   "outputs": [],
   "source": [
    "#Lista de fuentes asignadas \n",
    "fuentes = [fuentes_oct, fuentes_nov, fuentes_dic, fuentes_en]"
   ]
  },
  {
   "cell_type": "code",
   "execution_count": 71,
   "metadata": {
    "id": "w-MFIlc0pTiQ"
   },
   "outputs": [],
   "source": [
    "# Agregar ID_INE en fuentes asignadas (no tenian en la primera version)\n",
    "for fuente in fuentes:\n",
    "    fuente.insert(7,\"ID_INE\",fuente.RegCod+\".\"+fuente.DepCod+\".\"+fuente.MunCod+\".\"+fuente.FntCod+\".\")"
   ]
  },
  {
   "cell_type": "code",
   "execution_count": 72,
   "metadata": {
    "id": "AZerxdqX0Uym"
   },
   "outputs": [],
   "source": [
    "# Nuevo dataframe de fuentes asignadas \n",
    "fuentes_new = pd.concat(fuentes, ignore_index=True).drop_duplicates(subset = ['ID_INE']).reset_index()"
   ]
  },
  {
   "cell_type": "code",
   "execution_count": 73,
   "metadata": {
    "id": "qdW6ApmXNbJT"
   },
   "outputs": [],
   "source": [
    "# Extraer fuentes no georeferenciadas\n",
    "fuentes_new.drop(fuentes_new[fuentes_new.ID_INE.isin(geo_new.ID_INE) ].index, inplace = True)\n",
    "fuentes_new = fuentes_new.reset_index()"
   ]
  },
  {
   "cell_type": "code",
   "execution_count": 74,
   "metadata": {
    "id": "C4Z22wA0g00h"
   },
   "outputs": [],
   "source": [
    "# Añadir peridicidad al dataframe\n",
    "fuentes_new = fuentes_new.merge(periodicidad,how = 'left', on = 'ID_INE')"
   ]
  },
  {
   "cell_type": "code",
   "execution_count": 75,
   "metadata": {},
   "outputs": [
    {
     "name": "stdout",
     "output_type": "stream",
     "text": [
      "<class 'pandas.core.frame.DataFrame'>\n",
      "Int64Index: 6166 entries, 0 to 6165\n",
      "Data columns (total 12 columns):\n",
      " #   Column              Non-Null Count  Dtype  \n",
      "---  ------              --------------  -----  \n",
      " 0   level_0             6166 non-null   int64  \n",
      " 1   index_x             6166 non-null   int64  \n",
      " 2   RegCod              6165 non-null   object \n",
      " 3   DepCod              6166 non-null   object \n",
      " 4   MunCod              6166 non-null   object \n",
      " 5   FntCod              6166 non-null   object \n",
      " 6   NOMBRE_FUENTE       6166 non-null   object \n",
      " 7   DIRECCION           6166 non-null   object \n",
      " 8   CANTIDAD_ARTICULOS  6166 non-null   object \n",
      " 9   ID_INE              6165 non-null   object \n",
      " 10  index_y             6125 non-null   float64\n",
      " 11  Periodicidad        6125 non-null   object \n",
      "dtypes: float64(1), int64(2), object(9)\n",
      "memory usage: 626.2+ KB\n"
     ]
    }
   ],
   "source": [
    "fuentes_new.info()"
   ]
  },
  {
   "cell_type": "code",
   "execution_count": 76,
   "metadata": {
    "id": "_-T82gltF534"
   },
   "outputs": [],
   "source": [
    "# Eliminar duplicados por nombre y dirección\n",
    "fuentes_new = fuentes_new.sort_values([\"Periodicidad\"]).drop_duplicates(subset = [\"NOMBRE_FUENTE\",\"DIRECCION\"],keep=\"first\")"
   ]
  },
  {
   "cell_type": "code",
   "execution_count": 77,
   "metadata": {
    "id": "nXt2NY90XBdh"
   },
   "outputs": [],
   "source": [
    "# Escribir nuevo documento de excel\n",
    "cols = ['ID_INE','RegCod','DepCod','MunCod','FntCod','NOMBRE_FUENTE','DIRECCION','CANTIDAD_ARTICULOS','Periodicidad']\n",
    "fuentes_new.to_excel('fuentes_faltan.xlsx', columns=cols, index = False)"
   ]
  },
  {
   "cell_type": "code",
   "execution_count": 78,
   "metadata": {
    "scrolled": true
   },
   "outputs": [
    {
     "name": "stdout",
     "output_type": "stream",
     "text": [
      "<class 'pandas.core.frame.DataFrame'>\n",
      "Int64Index: 6151 entries, 0 to 6148\n",
      "Data columns (total 12 columns):\n",
      " #   Column              Non-Null Count  Dtype  \n",
      "---  ------              --------------  -----  \n",
      " 0   level_0             6151 non-null   int64  \n",
      " 1   index_x             6151 non-null   int64  \n",
      " 2   RegCod              6150 non-null   object \n",
      " 3   DepCod              6151 non-null   object \n",
      " 4   MunCod              6151 non-null   object \n",
      " 5   FntCod              6151 non-null   object \n",
      " 6   NOMBRE_FUENTE       6151 non-null   object \n",
      " 7   DIRECCION           6151 non-null   object \n",
      " 8   CANTIDAD_ARTICULOS  6151 non-null   object \n",
      " 9   ID_INE              6150 non-null   object \n",
      " 10  index_y             6115 non-null   float64\n",
      " 11  Periodicidad        6115 non-null   object \n",
      "dtypes: float64(1), int64(2), object(9)\n",
      "memory usage: 624.7+ KB\n"
     ]
    }
   ],
   "source": [
    "fuentes_new.info()"
   ]
  },
  {
   "cell_type": "code",
   "execution_count": null,
   "metadata": {},
   "outputs": [],
   "source": []
  }
 ],
 "metadata": {
  "colab": {
   "provenance": []
  },
  "kernelspec": {
   "display_name": "Python 3 (ipykernel)",
   "language": "python",
   "name": "python3"
  },
  "language_info": {
   "codemirror_mode": {
    "name": "ipython",
    "version": 3
   },
   "file_extension": ".py",
   "mimetype": "text/x-python",
   "name": "python",
   "nbconvert_exporter": "python",
   "pygments_lexer": "ipython3",
   "version": "3.11.1"
  }
 },
 "nbformat": 4,
 "nbformat_minor": 1
}
