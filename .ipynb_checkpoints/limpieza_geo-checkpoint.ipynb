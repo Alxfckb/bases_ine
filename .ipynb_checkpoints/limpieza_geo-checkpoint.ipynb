{
 "cells": [
  {
   "cell_type": "code",
   "execution_count": 282,
   "metadata": {
    "id": "-osrZP0Pb4Jl"
   },
   "outputs": [],
   "source": [
    "import pandas as pd"
   ]
  },
  {
   "cell_type": "code",
   "execution_count": 283,
   "metadata": {
    "id": "m0P2KCvIHouN"
   },
   "outputs": [],
   "source": [
    "# Llamar los datos de periodicidad\n",
    "per_oct = pd.read_excel('FUENTES IPC - PERIODICIDAD.xlsx', sheet_name='PER_OCT_2022', dtype=str, usecols = ['ID_INE','Periodicidad'])\n",
    "per_nov = pd.read_excel('FUENTES IPC - PERIODICIDAD.xlsx', sheet_name='PER_NOV_2022', dtype=str, usecols = ['ID_INE','Periodicidad'])\n",
    "per_dic = pd.read_excel('FUENTES IPC - PERIODICIDAD.xlsx', sheet_name='PER_DIC_2022', dtype=str, usecols = ['ID_INE','Periodicidad'])\n",
    "per_ene = pd.read_excel('FUENTES IPC - PERIODICIDAD.xlsx', sheet_name='PER_ENE_2023', dtype=str, usecols = ['ID_INE','Periodicidad'])"
   ]
  },
  {
   "cell_type": "code",
   "execution_count": 284,
   "metadata": {
    "id": "OTdFkYyndLsq"
   },
   "outputs": [],
   "source": [
    "# Georeferenciacion de octubre 2022 a enero 2023\n",
    "geo_oct = pd.read_excel('FUENTES IPC - GEO.xlsx', sheet_name = 'GEO-OCT-2022',dtype=str, usecols = [\"ID_INE\"]) \n",
    "geo_nov = pd.read_excel('FUENTES IPC - GEO.xlsx', sheet_name = 'GEO-NOV-2022',dtype=str, usecols = [\"ID_INE\"]) \n",
    "geo_dic = pd.read_excel('FUENTES IPC - GEO.xlsx', sheet_name = 'GEO-DIC-2022',dtype=str, usecols = [\"ID_INE\"]) \n",
    "geo_en  = pd.read_excel('FUENTES IPC - GEO.xlsx', sheet_name = 'GEO_ENE_2023',dtype=str, usecols = [\"ID_INE\"]) "
   ]
  },
  {
   "cell_type": "code",
   "execution_count": 285,
   "metadata": {
    "id": "uhUkZ0b1eR3w"
   },
   "outputs": [],
   "source": [
    "# Fuentes asignadas de octubre 2022 a enero 2023\n",
    "fuentes_oct = pd.read_excel('FUENTES IPC - ASIGNADAS.xlsx', sheet_name = 'FUENTES-OCT-2022',dtype=str, usecols=[\"RegCod\",\"DepCod\",\"MunCod\",\"FntCod\",\"NOMBRE_FUENTE\",\"DIRECCION\",\"CANTIDAD_ARTICULOS\"]) \n",
    "fuentes_nov = pd.read_excel('FUENTES IPC - ASIGNADAS.xlsx', sheet_name = 'FUENTES-NOV-2022',dtype=str, usecols=[\"RegCod\",\"DepCod\",\"MunCod\",\"FntCod\",\"NOMBRE_FUENTE\",\"DIRECCION\",\"CANTIDAD_ARTICULOS\"])  \n",
    "fuentes_dic = pd.read_excel('FUENTES IPC - ASIGNADAS.xlsx', sheet_name = 'FUENTES-DIC-2022',dtype=str, usecols=[\"RegCod\",\"DepCod\",\"MunCod\",\"FntCod\",\"NOMBRE_FUENTE\",\"DIRECCION\",\"CANTIDAD_ARTICULOS\"])  \n",
    "fuentes_en  = pd.read_excel('FUENTES IPC - ASIGNADAS.xlsx', sheet_name = 'FUENTES-ENE-2023',dtype=str, usecols=[\"RegCod\",\"DepCod\",\"MunCod\",\"FntCod\",\"NOMBRE_FUENTE\",\"DIRECCION\",\"CANTIDAD_ARTICULOS\"])  "
   ]
  },
  {
   "cell_type": "code",
   "execution_count": 286,
   "metadata": {
    "id": "lK9nRANSHuqj"
   },
   "outputs": [],
   "source": [
    "# Unir las bases de datos y escribe un nuevo dataframe\n",
    "archivos = [per_oct,per_nov,per_dic,per_ene]\n",
    "periodicidad = pd.concat(archivos,ignore_index=True).drop_duplicates(subset = ['ID_INE']).reset_index()"
   ]
  },
  {
   "cell_type": "code",
   "execution_count": 287,
   "metadata": {
    "id": "nCeJ6gG-JSmO"
   },
   "outputs": [],
   "source": [
    "# Lista de georeferenciadas\n",
    "georef = [geo_oct,geo_nov,geo_dic,geo_en]"
   ]
  },
  {
   "cell_type": "code",
   "execution_count": 288,
   "metadata": {
    "id": "57sp3ADUJn6j"
   },
   "outputs": [],
   "source": [
    "# Nuevo dataframe de georeferenciados \n",
    "geo_new = pd.concat(georef, ignore_index=True).drop_duplicates(subset = ['ID_INE']).reset_index()"
   ]
  },
  {
   "cell_type": "code",
   "execution_count": 289,
   "metadata": {
    "id": "36VFWCucnLGA"
   },
   "outputs": [],
   "source": [
    "#Lista de fuentes asignadas \n",
    "fuentes = [fuentes_oct, fuentes_nov, fuentes_dic, fuentes_en]"
   ]
  },
  {
   "cell_type": "code",
   "execution_count": 290,
   "metadata": {
    "id": "w-MFIlc0pTiQ"
   },
   "outputs": [],
   "source": [
    "# Agregar ID_INE en fuentes asignadas (no tenian en la primera version)\n",
    "for fuente in fuentes:\n",
    "    fuente.insert(7,\"ID_INE\",fuente.RegCod+\".\"+fuente.DepCod+\".\"+fuente.MunCod+\".\"+fuente.FntCod+\".\")"
   ]
  },
  {
   "cell_type": "code",
   "execution_count": 291,
   "metadata": {
    "id": "AZerxdqX0Uym"
   },
   "outputs": [],
   "source": [
    "# Nuevo dataframe de fuentes asignadas \n",
    "fuentes_new = pd.concat(fuentes, ignore_index=True).drop_duplicates(subset = ['ID_INE']).reset_index()"
   ]
  },
  {
   "cell_type": "code",
   "execution_count": 292,
   "metadata": {
    "id": "qdW6ApmXNbJT"
   },
   "outputs": [],
   "source": [
    "# Extraer fuentes no georeferenciadas\n",
    "fuentes_new.drop(fuentes_new[fuentes_new.ID_INE.isin(geo_new.ID_INE) ].index, inplace = True)\n",
    "fuentes_new = fuentes_new.reset_index()"
   ]
  },
  {
   "cell_type": "code",
   "execution_count": 293,
   "metadata": {
    "id": "C4Z22wA0g00h"
   },
   "outputs": [],
   "source": [
    "# Añadir peridicidad al dataframe\n",
    "fuentes_new = fuentes_new.merge(periodicidad,how = 'left', on = 'ID_INE')"
   ]
  },
  {
   "cell_type": "code",
   "execution_count": 294,
   "metadata": {
    "id": "_-T82gltF534"
   },
   "outputs": [],
   "source": [
    "# Eliminar duplicados por nombre y dirección\n",
    "fuentes_new = fuentes_new.sort_values([\"Periodicidad\"]).drop_duplicates(subset = [\"NOMBRE_FUENTE\",\"DIRECCION\"],keep=\"first\")"
   ]
  },
  {
   "cell_type": "code",
   "execution_count": 295,
   "metadata": {
    "scrolled": true
   },
   "outputs": [
    {
     "data": {
      "text/html": [
       "<div>\n",
       "<style scoped>\n",
       "    .dataframe tbody tr th:only-of-type {\n",
       "        vertical-align: middle;\n",
       "    }\n",
       "\n",
       "    .dataframe tbody tr th {\n",
       "        vertical-align: top;\n",
       "    }\n",
       "\n",
       "    .dataframe thead th {\n",
       "        text-align: right;\n",
       "    }\n",
       "</style>\n",
       "<table border=\"1\" class=\"dataframe\">\n",
       "  <thead>\n",
       "    <tr style=\"text-align: right;\">\n",
       "      <th></th>\n",
       "      <th>index</th>\n",
       "      <th>level_0</th>\n",
       "      <th>index_x</th>\n",
       "      <th>RegCod</th>\n",
       "      <th>DepCod</th>\n",
       "      <th>MunCod</th>\n",
       "      <th>FntCod</th>\n",
       "      <th>NOMBRE_FUENTE</th>\n",
       "      <th>DIRECCION</th>\n",
       "      <th>CANTIDAD_ARTICULOS</th>\n",
       "      <th>ID_INE</th>\n",
       "      <th>index_y</th>\n",
       "      <th>Periodicidad</th>\n",
       "    </tr>\n",
       "  </thead>\n",
       "  <tbody>\n",
       "    <tr>\n",
       "      <th>0</th>\n",
       "      <td>0</td>\n",
       "      <td>1</td>\n",
       "      <td>1</td>\n",
       "      <td>01</td>\n",
       "      <td>01</td>\n",
       "      <td>01</td>\n",
       "      <td>1004</td>\n",
       "      <td>POLLERIA NANCY                                ...</td>\n",
       "      <td>MDO. SAN JOSE MERCANTIL LOCAL 207             ...</td>\n",
       "      <td>1</td>\n",
       "      <td>01.01.01.1004.</td>\n",
       "      <td>228.0</td>\n",
       "      <td>01</td>\n",
       "    </tr>\n",
       "    <tr>\n",
       "      <th>1</th>\n",
       "      <td>1664</td>\n",
       "      <td>5226</td>\n",
       "      <td>5234</td>\n",
       "      <td>06</td>\n",
       "      <td>10</td>\n",
       "      <td>01</td>\n",
       "      <td>7835</td>\n",
       "      <td>VENTA DE VERDURA SIN NOMBRE                   ...</td>\n",
       "      <td>INTERIOR DEL MERCADO TERMINAL AREA DE VERDURA ...</td>\n",
       "      <td>0</td>\n",
       "      <td>06.10.01.7835.</td>\n",
       "      <td>5191.0</td>\n",
       "      <td>01</td>\n",
       "    </tr>\n",
       "    <tr>\n",
       "      <th>2</th>\n",
       "      <td>1663</td>\n",
       "      <td>5225</td>\n",
       "      <td>5233</td>\n",
       "      <td>06</td>\n",
       "      <td>10</td>\n",
       "      <td>01</td>\n",
       "      <td>7834</td>\n",
       "      <td>VENTA DE FRUTA SIN NOMBRE                     ...</td>\n",
       "      <td>EXTER. MERCADO TERMINAL POR PANADERIA SAN CARL...</td>\n",
       "      <td>0</td>\n",
       "      <td>06.10.01.7834.</td>\n",
       "      <td>5190.0</td>\n",
       "      <td>01</td>\n",
       "    </tr>\n",
       "    <tr>\n",
       "      <th>3</th>\n",
       "      <td>1662</td>\n",
       "      <td>5224</td>\n",
       "      <td>5232</td>\n",
       "      <td>06</td>\n",
       "      <td>10</td>\n",
       "      <td>01</td>\n",
       "      <td>7833</td>\n",
       "      <td>VENTA DE FRUTA SIN NOMBRE                     ...</td>\n",
       "      <td>EXTER. MERCADO TERMINAL POR VENTA DE POLLO Y E...</td>\n",
       "      <td>0</td>\n",
       "      <td>06.10.01.7833.</td>\n",
       "      <td>5189.0</td>\n",
       "      <td>01</td>\n",
       "    </tr>\n",
       "    <tr>\n",
       "      <th>4</th>\n",
       "      <td>1661</td>\n",
       "      <td>5223</td>\n",
       "      <td>5231</td>\n",
       "      <td>06</td>\n",
       "      <td>10</td>\n",
       "      <td>01</td>\n",
       "      <td>7831</td>\n",
       "      <td>VENTA DE COMIDA SIN NOMBRE                    ...</td>\n",
       "      <td>EXT MERCADO TERMINAL POR VENTA DE ROPA TIPICA ...</td>\n",
       "      <td>0</td>\n",
       "      <td>06.10.01.7831.</td>\n",
       "      <td>5188.0</td>\n",
       "      <td>01</td>\n",
       "    </tr>\n",
       "    <tr>\n",
       "      <th>...</th>\n",
       "      <td>...</td>\n",
       "      <td>...</td>\n",
       "      <td>...</td>\n",
       "      <td>...</td>\n",
       "      <td>...</td>\n",
       "      <td>...</td>\n",
       "      <td>...</td>\n",
       "      <td>...</td>\n",
       "      <td>...</td>\n",
       "      <td>...</td>\n",
       "      <td>...</td>\n",
       "      <td>...</td>\n",
       "      <td>...</td>\n",
       "    </tr>\n",
       "    <tr>\n",
       "      <th>6146</th>\n",
       "      <td>5901</td>\n",
       "      <td>12186</td>\n",
       "      <td>24601</td>\n",
       "      <td>02</td>\n",
       "      <td>16</td>\n",
       "      <td>01</td>\n",
       "      <td>3888</td>\n",
       "      <td>IRMA YOLANDA CAAL LUC                         ...</td>\n",
       "      <td>8 AVENIDA 5-71                                ...</td>\n",
       "      <td>1</td>\n",
       "      <td>02.16.01.3888.</td>\n",
       "      <td>NaN</td>\n",
       "      <td>NaN</td>\n",
       "    </tr>\n",
       "    <tr>\n",
       "      <th>6147</th>\n",
       "      <td>5915</td>\n",
       "      <td>12223</td>\n",
       "      <td>25427</td>\n",
       "      <td>03</td>\n",
       "      <td>18</td>\n",
       "      <td>01</td>\n",
       "      <td>1716</td>\n",
       "      <td>COLEGIO MARANATHA                             ...</td>\n",
       "      <td>7 AVENIDA ENTRE 16 Y 17 CALLE                 ...</td>\n",
       "      <td>4</td>\n",
       "      <td>03.18.01.1716.</td>\n",
       "      <td>NaN</td>\n",
       "      <td>NaN</td>\n",
       "    </tr>\n",
       "    <tr>\n",
       "      <th>6148</th>\n",
       "      <td>6065</td>\n",
       "      <td>12396</td>\n",
       "      <td>28029</td>\n",
       "      <td>06</td>\n",
       "      <td>09</td>\n",
       "      <td>01</td>\n",
       "      <td>9731</td>\n",
       "      <td>ROSAS  - MAYLIN SUCELI ACENCIO LOPEZ          ...</td>\n",
       "      <td>RESIDENCIALES VALLE DE LAS ROSAS CASA P-23    ...</td>\n",
       "      <td>1</td>\n",
       "      <td>06.09.01.9731.</td>\n",
       "      <td>NaN</td>\n",
       "      <td>NaN</td>\n",
       "    </tr>\n",
       "    <tr>\n",
       "      <th>6149</th>\n",
       "      <td>6113</td>\n",
       "      <td>12458</td>\n",
       "      <td>29367</td>\n",
       "      <td>08</td>\n",
       "      <td>17</td>\n",
       "      <td>01</td>\n",
       "      <td>1122</td>\n",
       "      <td>COLEGIO EVANGELICO BETHESDA  AIDEE PACAY      ...</td>\n",
       "      <td>4A. CALLE A 6-34 SANTA ELENA PETEN AM         ...</td>\n",
       "      <td>5</td>\n",
       "      <td>08.17.01.1122.</td>\n",
       "      <td>NaN</td>\n",
       "      <td>NaN</td>\n",
       "    </tr>\n",
       "    <tr>\n",
       "      <th>6150</th>\n",
       "      <td>6148</td>\n",
       "      <td>12493</td>\n",
       "      <td>29747</td>\n",
       "      <td>08</td>\n",
       "      <td>17</td>\n",
       "      <td>03</td>\n",
       "      <td>9137</td>\n",
       "      <td>SOI BEATY STUDY 10                            ...</td>\n",
       "      <td>BARRIO 3 DE ABRIL, FRENTE A L PARQUE MUNICIPAL...</td>\n",
       "      <td>3</td>\n",
       "      <td>08.17.03.9137.</td>\n",
       "      <td>NaN</td>\n",
       "      <td>NaN</td>\n",
       "    </tr>\n",
       "  </tbody>\n",
       "</table>\n",
       "<p>6151 rows × 13 columns</p>\n",
       "</div>"
      ],
      "text/plain": [
       "      index  level_0  index_x RegCod DepCod MunCod FntCod  \\\n",
       "0         0        1        1     01     01     01   1004   \n",
       "1      1664     5226     5234     06     10     01   7835   \n",
       "2      1663     5225     5233     06     10     01   7834   \n",
       "3      1662     5224     5232     06     10     01   7833   \n",
       "4      1661     5223     5231     06     10     01   7831   \n",
       "...     ...      ...      ...    ...    ...    ...    ...   \n",
       "6146   5901    12186    24601     02     16     01   3888   \n",
       "6147   5915    12223    25427     03     18     01   1716   \n",
       "6148   6065    12396    28029     06     09     01   9731   \n",
       "6149   6113    12458    29367     08     17     01   1122   \n",
       "6150   6148    12493    29747     08     17     03   9137   \n",
       "\n",
       "                                          NOMBRE_FUENTE  \\\n",
       "0     POLLERIA NANCY                                ...   \n",
       "1     VENTA DE VERDURA SIN NOMBRE                   ...   \n",
       "2     VENTA DE FRUTA SIN NOMBRE                     ...   \n",
       "3     VENTA DE FRUTA SIN NOMBRE                     ...   \n",
       "4     VENTA DE COMIDA SIN NOMBRE                    ...   \n",
       "...                                                 ...   \n",
       "6146  IRMA YOLANDA CAAL LUC                         ...   \n",
       "6147  COLEGIO MARANATHA                             ...   \n",
       "6148  ROSAS  - MAYLIN SUCELI ACENCIO LOPEZ          ...   \n",
       "6149  COLEGIO EVANGELICO BETHESDA  AIDEE PACAY      ...   \n",
       "6150  SOI BEATY STUDY 10                            ...   \n",
       "\n",
       "                                              DIRECCION CANTIDAD_ARTICULOS  \\\n",
       "0     MDO. SAN JOSE MERCANTIL LOCAL 207             ...                  1   \n",
       "1     INTERIOR DEL MERCADO TERMINAL AREA DE VERDURA ...                  0   \n",
       "2     EXTER. MERCADO TERMINAL POR PANADERIA SAN CARL...                  0   \n",
       "3     EXTER. MERCADO TERMINAL POR VENTA DE POLLO Y E...                  0   \n",
       "4     EXT MERCADO TERMINAL POR VENTA DE ROPA TIPICA ...                  0   \n",
       "...                                                 ...                ...   \n",
       "6146  8 AVENIDA 5-71                                ...                  1   \n",
       "6147  7 AVENIDA ENTRE 16 Y 17 CALLE                 ...                  4   \n",
       "6148  RESIDENCIALES VALLE DE LAS ROSAS CASA P-23    ...                  1   \n",
       "6149  4A. CALLE A 6-34 SANTA ELENA PETEN AM         ...                  5   \n",
       "6150  BARRIO 3 DE ABRIL, FRENTE A L PARQUE MUNICIPAL...                  3   \n",
       "\n",
       "              ID_INE  index_y Periodicidad  \n",
       "0     01.01.01.1004.    228.0           01  \n",
       "1     06.10.01.7835.   5191.0           01  \n",
       "2     06.10.01.7834.   5190.0           01  \n",
       "3     06.10.01.7833.   5189.0           01  \n",
       "4     06.10.01.7831.   5188.0           01  \n",
       "...              ...      ...          ...  \n",
       "6146  02.16.01.3888.      NaN          NaN  \n",
       "6147  03.18.01.1716.      NaN          NaN  \n",
       "6148  06.09.01.9731.      NaN          NaN  \n",
       "6149  08.17.01.1122.      NaN          NaN  \n",
       "6150  08.17.03.9137.      NaN          NaN  \n",
       "\n",
       "[6151 rows x 13 columns]"
      ]
     },
     "execution_count": 295,
     "metadata": {},
     "output_type": "execute_result"
    }
   ],
   "source": [
    "fuentes_new.reset_index()"
   ]
  },
  {
   "cell_type": "code",
   "execution_count": 296,
   "metadata": {
    "id": "nXt2NY90XBdh"
   },
   "outputs": [],
   "source": [
    "# Escribir nuevo documento de excel\n",
    "cols = ['ID_INE','RegCod','DepCod','MunCod','FntCod','NOMBRE_FUENTE','DIRECCION','CANTIDAD_ARTICULOS','Periodicidad']\n",
    "fuentes_new.reset_index()\n",
    "fuentes_new.to_excel('fuentes_faltan.xlsx', columns=cols, index = False)"
   ]
  },
  {
   "cell_type": "code",
   "execution_count": 298,
   "metadata": {
    "scrolled": true
   },
   "outputs": [
    {
     "name": "stdout",
     "output_type": "stream",
     "text": [
      "<class 'pandas.core.frame.DataFrame'>\n",
      "Int64Index: 6151 entries, 0 to 6148\n",
      "Data columns (total 12 columns):\n",
      " #   Column              Non-Null Count  Dtype  \n",
      "---  ------              --------------  -----  \n",
      " 0   level_0             6151 non-null   int64  \n",
      " 1   index_x             6151 non-null   int64  \n",
      " 2   RegCod              6150 non-null   object \n",
      " 3   DepCod              6151 non-null   object \n",
      " 4   MunCod              6151 non-null   object \n",
      " 5   FntCod              6151 non-null   object \n",
      " 6   NOMBRE_FUENTE       6151 non-null   object \n",
      " 7   DIRECCION           6151 non-null   object \n",
      " 8   CANTIDAD_ARTICULOS  6151 non-null   object \n",
      " 9   ID_INE              6150 non-null   object \n",
      " 10  index_y             6115 non-null   float64\n",
      " 11  Periodicidad        6115 non-null   object \n",
      "dtypes: float64(1), int64(2), object(9)\n",
      "memory usage: 624.7+ KB\n"
     ]
    }
   ],
   "source": [
    "fuentes_new.info()"
   ]
  },
  {
   "cell_type": "code",
   "execution_count": null,
   "metadata": {},
   "outputs": [],
   "source": []
  }
 ],
 "metadata": {
  "colab": {
   "provenance": []
  },
  "kernelspec": {
   "display_name": "Python 3 (ipykernel)",
   "language": "python",
   "name": "python3"
  },
  "language_info": {
   "codemirror_mode": {
    "name": "ipython",
    "version": 3
   },
   "file_extension": ".py",
   "mimetype": "text/x-python",
   "name": "python",
   "nbconvert_exporter": "python",
   "pygments_lexer": "ipython3",
   "version": "3.11.1"
  }
 },
 "nbformat": 4,
 "nbformat_minor": 1
}
