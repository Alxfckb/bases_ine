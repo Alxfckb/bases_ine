{
 "cells": [
  {
   "cell_type": "code",
<<<<<<< HEAD
   "execution_count": null,
=======
   "execution_count": 63,
>>>>>>> afcfc0b1cc48a93d22b352a4f6701d3963ff281f
   "metadata": {
    "id": "-osrZP0Pb4Jl"
   },
   "outputs": [],
   "source": [
<<<<<<< HEAD
    "import pandas as pd "
=======
    "import pandas as pd"
>>>>>>> afcfc0b1cc48a93d22b352a4f6701d3963ff281f
   ]
  },
  {
   "cell_type": "code",
<<<<<<< HEAD
   "execution_count": 8,
=======
   "execution_count": 64,
>>>>>>> afcfc0b1cc48a93d22b352a4f6701d3963ff281f
   "metadata": {
    "id": "m0P2KCvIHouN"
   },
   "outputs": [],
   "source": [
<<<<<<< HEAD
    "#llamar los datos de periodicidad\n",
=======
    "# Llamar los datos de periodicidad\n",
>>>>>>> afcfc0b1cc48a93d22b352a4f6701d3963ff281f
    "per_oct = pd.read_excel('FUENTES IPC - PERIODICIDAD.xlsx', sheet_name='PER_OCT_2022', dtype=str, usecols = ['ID_INE','Periodicidad'])\n",
    "per_nov = pd.read_excel('FUENTES IPC - PERIODICIDAD.xlsx', sheet_name='PER_NOV_2022', dtype=str, usecols = ['ID_INE','Periodicidad'])\n",
    "per_dic = pd.read_excel('FUENTES IPC - PERIODICIDAD.xlsx', sheet_name='PER_DIC_2022', dtype=str, usecols = ['ID_INE','Periodicidad'])\n",
    "per_ene = pd.read_excel('FUENTES IPC - PERIODICIDAD.xlsx', sheet_name='PER_ENE_2023', dtype=str, usecols = ['ID_INE','Periodicidad'])"
   ]
  },
  {
   "cell_type": "code",
<<<<<<< HEAD
   "execution_count": 9,
   "metadata": {
    "id": "lK9nRANSHuqj"
   },
   "outputs": [],
   "source": [
    "#une las bases de datos y escribe un nuevo archivo\n",
    "archivos = [per_oct,per_nov,per_dic,per_ene]\n",
    "periodicidad = pd.concat(archivos,ignore_index=True).drop_duplicates(subset = ['ID_INE']).reset_index()"
   ]
  },
  {
   "cell_type": "code",
   "execution_count": 10,
   "metadata": {
    "colab": {
     "base_uri": "https://localhost:8080/"
    },
    "id": "SsO1taWCIQPj",
    "outputId": "e435a41b-bd0e-4ebf-8c18-6e672ae5d7cb"
   },
   "outputs": [
    {
     "name": "stdout",
     "output_type": "stream",
     "text": [
      "       index Periodicidad          ID_INE\n",
      "0          0           01    01.01.01.17.\n",
      "1          1           01    01.01.01.35.\n",
      "2          2           03    01.01.01.48.\n",
      "3          3           01    01.01.01.50.\n",
      "4          4           03    01.01.01.60.\n",
      "...      ...          ...             ...\n",
      "13558  30401           05  08.17.03.2141.\n",
      "13559  30442           05  08.17.03.2553.\n",
      "13560  30443           01  08.17.03.2554.\n",
      "13561  30518           03  08.17.03.9151.\n",
      "13562  30519           03  08.17.03.9152.\n",
      "\n",
      "[13563 rows x 3 columns]\n",
      "<class 'pandas.core.frame.DataFrame'>\n",
      "RangeIndex: 13563 entries, 0 to 13562\n",
      "Data columns (total 3 columns):\n",
      " #   Column        Non-Null Count  Dtype \n",
      "---  ------        --------------  ----- \n",
      " 0   index         13563 non-null  int64 \n",
      " 1   Periodicidad  13563 non-null  object\n",
      " 2   ID_INE        13563 non-null  object\n",
      "dtypes: int64(1), object(2)\n",
      "memory usage: 318.0+ KB\n",
      "None\n"
     ]
    }
   ],
   "source": [
    "print(periodicidad)\n",
    "print(periodicidad.info())"
   ]
  },
  {
   "cell_type": "code",
   "execution_count": 14,
   "metadata": {
    "id": "OTdFkYyndLsq",
    "scrolled": true
   },
   "outputs": [],
   "source": [
    "#Georeferenciacion de octubre 2022 a enero 2023\n",
=======
   "execution_count": 65,
   "metadata": {
    "id": "OTdFkYyndLsq"
   },
   "outputs": [],
   "source": [
    "# Georeferenciacion de octubre 2022 a enero 2023\n",
>>>>>>> afcfc0b1cc48a93d22b352a4f6701d3963ff281f
    "geo_oct = pd.read_excel('FUENTES IPC - GEO.xlsx', sheet_name = 'GEO-OCT-2022',dtype=str, usecols = [\"ID_INE\"]) \n",
    "geo_nov = pd.read_excel('FUENTES IPC - GEO.xlsx', sheet_name = 'GEO-NOV-2022',dtype=str, usecols = [\"ID_INE\"]) \n",
    "geo_dic = pd.read_excel('FUENTES IPC - GEO.xlsx', sheet_name = 'GEO-DIC-2022',dtype=str, usecols = [\"ID_INE\"]) \n",
    "geo_en  = pd.read_excel('FUENTES IPC - GEO.xlsx', sheet_name = 'GEO_ENE_2023',dtype=str, usecols = [\"ID_INE\"]) "
   ]
  },
  {
   "cell_type": "code",
<<<<<<< HEAD
   "execution_count": 15,
   "metadata": {
    "colab": {
     "base_uri": "https://localhost:8080/"
    },
    "id": "7vJPvVX5Koe0",
    "outputId": "2d2207b2-3313-46bd-db70-669abecf7b9d"
   },
   "outputs": [
    {
     "name": "stdout",
     "output_type": "stream",
     "text": [
      "<class 'pandas.core.frame.DataFrame'>\n",
      "RangeIndex: 3923 entries, 0 to 3922\n",
      "Data columns (total 1 columns):\n",
      " #   Column  Non-Null Count  Dtype \n",
      "---  ------  --------------  ----- \n",
      " 0   ID_INE  3923 non-null   object\n",
      "dtypes: object(1)\n",
      "memory usage: 30.8+ KB\n"
     ]
    }
   ],
   "source": [
    "geo_oct.info()"
   ]
  },
  {
   "cell_type": "code",
   "execution_count": 16,
   "metadata": {
    "id": "nCeJ6gG-JSmO"
   },
   "outputs": [],
   "source": [
    "# Lista de georeferenciadas\n",
    "georef = [geo_oct,geo_nov,geo_dic,geo_en]"
   ]
  },
  {
   "cell_type": "code",
   "execution_count": 17,
   "metadata": {
    "id": "57sp3ADUJn6j"
   },
   "outputs": [],
   "source": [
    "geo_new = pd.concat(georef, ignore_index=True).drop_duplicates(subset = ['ID_INE']).reset_index()"
   ]
  },
  {
   "cell_type": "code",
   "execution_count": 18,
   "metadata": {
    "colab": {
     "base_uri": "https://localhost:8080/",
     "height": 424
    },
    "id": "_TEihuRuMWPz",
    "outputId": "69469894-b986-4bd6-8bd3-c86c3c738c82"
   },
   "outputs": [
    {
     "data": {
      "text/html": [
       "<div>\n",
       "<style scoped>\n",
       "    .dataframe tbody tr th:only-of-type {\n",
       "        vertical-align: middle;\n",
       "    }\n",
       "\n",
       "    .dataframe tbody tr th {\n",
       "        vertical-align: top;\n",
       "    }\n",
       "\n",
       "    .dataframe thead th {\n",
       "        text-align: right;\n",
       "    }\n",
       "</style>\n",
       "<table border=\"1\" class=\"dataframe\">\n",
       "  <thead>\n",
       "    <tr style=\"text-align: right;\">\n",
       "      <th></th>\n",
       "      <th>index</th>\n",
       "      <th>ID_INE</th>\n",
       "    </tr>\n",
       "  </thead>\n",
       "  <tbody>\n",
       "    <tr>\n",
       "      <th>0</th>\n",
       "      <td>0</td>\n",
       "      <td>01.01.01.5622.</td>\n",
       "    </tr>\n",
       "    <tr>\n",
       "      <th>1</th>\n",
       "      <td>1</td>\n",
       "      <td>01.01.01.171.</td>\n",
       "    </tr>\n",
       "    <tr>\n",
       "      <th>2</th>\n",
       "      <td>2</td>\n",
       "      <td>01.01.01.376.</td>\n",
       "    </tr>\n",
       "    <tr>\n",
       "      <th>3</th>\n",
       "      <td>3</td>\n",
       "      <td>01.01.01.5697.</td>\n",
       "    </tr>\n",
       "    <tr>\n",
       "      <th>4</th>\n",
       "      <td>4</td>\n",
       "      <td>01.01.01.8991.</td>\n",
       "    </tr>\n",
       "    <tr>\n",
       "      <th>...</th>\n",
       "      <td>...</td>\n",
       "      <td>...</td>\n",
       "    </tr>\n",
       "    <tr>\n",
       "      <th>6759</th>\n",
       "      <td>7148</td>\n",
       "      <td>06.10.01.10007.</td>\n",
       "    </tr>\n",
       "    <tr>\n",
       "      <th>6760</th>\n",
       "      <td>7149</td>\n",
       "      <td>06.10.01.10009.</td>\n",
       "    </tr>\n",
       "    <tr>\n",
       "      <th>6761</th>\n",
       "      <td>7151</td>\n",
       "      <td>06.10.01.10032.</td>\n",
       "    </tr>\n",
       "    <tr>\n",
       "      <th>6762</th>\n",
       "      <td>7152</td>\n",
       "      <td>03.18.01.10042.</td>\n",
       "    </tr>\n",
       "    <tr>\n",
       "      <th>6763</th>\n",
       "      <td>7154</td>\n",
       "      <td>06.10.01.10062.</td>\n",
       "    </tr>\n",
       "  </tbody>\n",
       "</table>\n",
       "<p>6764 rows × 2 columns</p>\n",
       "</div>"
      ],
      "text/plain": [
       "      index           ID_INE\n",
       "0         0   01.01.01.5622.\n",
       "1         1    01.01.01.171.\n",
       "2         2    01.01.01.376.\n",
       "3         3   01.01.01.5697.\n",
       "4         4   01.01.01.8991.\n",
       "...     ...              ...\n",
       "6759   7148  06.10.01.10007.\n",
       "6760   7149  06.10.01.10009.\n",
       "6761   7151  06.10.01.10032.\n",
       "6762   7152  03.18.01.10042.\n",
       "6763   7154  06.10.01.10062.\n",
       "\n",
       "[6764 rows x 2 columns]"
      ]
     },
     "execution_count": 18,
     "metadata": {},
     "output_type": "execute_result"
    }
   ],
   "source": [
    "geo_new"
   ]
  },
  {
   "cell_type": "code",
   "execution_count": 20,
=======
   "execution_count": 66,
>>>>>>> afcfc0b1cc48a93d22b352a4f6701d3963ff281f
   "metadata": {
    "id": "uhUkZ0b1eR3w"
   },
   "outputs": [],
   "source": [
    "# Fuentes asignadas de octubre 2022 a enero 2023\n",
    "fuentes_oct = pd.read_excel('FUENTES IPC - ASIGNADAS.xlsx', sheet_name = 'FUENTES-OCT-2022',dtype=str, usecols=[\"RegCod\",\"DepCod\",\"MunCod\",\"FntCod\",\"NOMBRE_FUENTE\",\"DIRECCION\",\"CANTIDAD_ARTICULOS\"]) \n",
    "fuentes_nov = pd.read_excel('FUENTES IPC - ASIGNADAS.xlsx', sheet_name = 'FUENTES-NOV-2022',dtype=str, usecols=[\"RegCod\",\"DepCod\",\"MunCod\",\"FntCod\",\"NOMBRE_FUENTE\",\"DIRECCION\",\"CANTIDAD_ARTICULOS\"])  \n",
    "fuentes_dic = pd.read_excel('FUENTES IPC - ASIGNADAS.xlsx', sheet_name = 'FUENTES-DIC-2022',dtype=str, usecols=[\"RegCod\",\"DepCod\",\"MunCod\",\"FntCod\",\"NOMBRE_FUENTE\",\"DIRECCION\",\"CANTIDAD_ARTICULOS\"])  \n",
    "fuentes_en  = pd.read_excel('FUENTES IPC - ASIGNADAS.xlsx', sheet_name = 'FUENTES-ENE-2023',dtype=str, usecols=[\"RegCod\",\"DepCod\",\"MunCod\",\"FntCod\",\"NOMBRE_FUENTE\",\"DIRECCION\",\"CANTIDAD_ARTICULOS\"])  "
   ]
  },
  {
   "cell_type": "code",
<<<<<<< HEAD
   "execution_count": 21,
=======
   "execution_count": 67,
   "metadata": {
    "id": "lK9nRANSHuqj"
   },
   "outputs": [],
   "source": [
    "# Unir las bases de datos y escribe un nuevo dataframe\n",
    "archivos = [per_oct,per_nov,per_dic,per_ene]\n",
    "periodicidad = pd.concat(archivos,ignore_index=True).drop_duplicates(subset = ['ID_INE']).reset_index()"
   ]
  },
  {
   "cell_type": "code",
   "execution_count": 68,
   "metadata": {
    "id": "nCeJ6gG-JSmO"
   },
   "outputs": [],
   "source": [
    "# Lista de georeferenciadas\n",
    "georef = [geo_oct,geo_nov,geo_dic,geo_en]"
   ]
  },
  {
   "cell_type": "code",
   "execution_count": 69,
   "metadata": {
    "id": "57sp3ADUJn6j"
   },
   "outputs": [],
   "source": [
    "# Nuevo dataframe de georeferenciados \n",
    "geo_new = pd.concat(georef, ignore_index=True).drop_duplicates(subset = ['ID_INE']).reset_index()"
   ]
  },
  {
   "cell_type": "code",
   "execution_count": 70,
>>>>>>> afcfc0b1cc48a93d22b352a4f6701d3963ff281f
   "metadata": {
    "id": "36VFWCucnLGA"
   },
   "outputs": [],
   "source": [
    "#Lista de fuentes asignadas \n",
    "fuentes = [fuentes_oct, fuentes_nov, fuentes_dic, fuentes_en]"
   ]
  },
  {
   "cell_type": "code",
<<<<<<< HEAD
   "execution_count": 22,
=======
   "execution_count": 71,
>>>>>>> afcfc0b1cc48a93d22b352a4f6701d3963ff281f
   "metadata": {
    "id": "w-MFIlc0pTiQ"
   },
   "outputs": [],
   "source": [
<<<<<<< HEAD
    "# Agregar ID_INE en fuentes asignadas\n",
    "for fuente in fuentes:\n",
    "    fuente.insert(7,\"ID_INE\",fuente.RegCod+\".\"+fuente.DepCod+\".\"+fuente.MunCod+\".\"+fuente.FntCod+\".\")\n"
=======
    "# Agregar ID_INE en fuentes asignadas (no tenian en la primera version)\n",
    "for fuente in fuentes:\n",
    "    fuente.insert(7,\"ID_INE\",fuente.RegCod+\".\"+fuente.DepCod+\".\"+fuente.MunCod+\".\"+fuente.FntCod+\".\")"
>>>>>>> afcfc0b1cc48a93d22b352a4f6701d3963ff281f
   ]
  },
  {
   "cell_type": "code",
<<<<<<< HEAD
   "execution_count": 23,
=======
   "execution_count": 72,
>>>>>>> afcfc0b1cc48a93d22b352a4f6701d3963ff281f
   "metadata": {
    "id": "AZerxdqX0Uym"
   },
   "outputs": [],
   "source": [
<<<<<<< HEAD
=======
    "# Nuevo dataframe de fuentes asignadas \n",
>>>>>>> afcfc0b1cc48a93d22b352a4f6701d3963ff281f
    "fuentes_new = pd.concat(fuentes, ignore_index=True).drop_duplicates(subset = ['ID_INE']).reset_index()"
   ]
  },
  {
   "cell_type": "code",
<<<<<<< HEAD
   "execution_count": 24,
   "metadata": {
    "colab": {
     "base_uri": "https://localhost:8080/"
    },
    "id": "bVLhIiaQKlDM",
    "outputId": "13d8b808-6a15-4b3c-bfdb-3cae3a487643"
   },
=======
   "execution_count": 73,
   "metadata": {
    "id": "qdW6ApmXNbJT"
   },
   "outputs": [],
   "source": [
    "# Extraer fuentes no georeferenciadas\n",
    "fuentes_new.drop(fuentes_new[fuentes_new.ID_INE.isin(geo_new.ID_INE) ].index, inplace = True)\n",
    "fuentes_new = fuentes_new.reset_index()"
   ]
  },
  {
   "cell_type": "code",
   "execution_count": 74,
   "metadata": {
    "id": "C4Z22wA0g00h"
   },
   "outputs": [],
   "source": [
    "# Añadir peridicidad al dataframe\n",
    "fuentes_new = fuentes_new.merge(periodicidad,how = 'left', on = 'ID_INE')"
   ]
  },
  {
   "cell_type": "code",
   "execution_count": 75,
   "metadata": {},
>>>>>>> afcfc0b1cc48a93d22b352a4f6701d3963ff281f
   "outputs": [
    {
     "name": "stdout",
     "output_type": "stream",
     "text": [
      "<class 'pandas.core.frame.DataFrame'>\n",
<<<<<<< HEAD
      "RangeIndex: 12511 entries, 0 to 12510\n",
      "Data columns (total 9 columns):\n",
      " #   Column              Non-Null Count  Dtype \n",
      "---  ------              --------------  ----- \n",
      " 0   index               12511 non-null  int64 \n",
      " 1   RegCod              12510 non-null  object\n",
      " 2   DepCod              12511 non-null  object\n",
      " 3   MunCod              12511 non-null  object\n",
      " 4   FntCod              12511 non-null  object\n",
      " 5   NOMBRE_FUENTE       12511 non-null  object\n",
      " 6   DIRECCION           12511 non-null  object\n",
      " 7   CANTIDAD_ARTICULOS  12511 non-null  object\n",
      " 8   ID_INE              12510 non-null  object\n",
      "dtypes: int64(1), object(8)\n",
      "memory usage: 879.8+ KB\n"
=======
      "Int64Index: 6166 entries, 0 to 6165\n",
      "Data columns (total 12 columns):\n",
      " #   Column              Non-Null Count  Dtype  \n",
      "---  ------              --------------  -----  \n",
      " 0   level_0             6166 non-null   int64  \n",
      " 1   index_x             6166 non-null   int64  \n",
      " 2   RegCod              6165 non-null   object \n",
      " 3   DepCod              6166 non-null   object \n",
      " 4   MunCod              6166 non-null   object \n",
      " 5   FntCod              6166 non-null   object \n",
      " 6   NOMBRE_FUENTE       6166 non-null   object \n",
      " 7   DIRECCION           6166 non-null   object \n",
      " 8   CANTIDAD_ARTICULOS  6166 non-null   object \n",
      " 9   ID_INE              6165 non-null   object \n",
      " 10  index_y             6125 non-null   float64\n",
      " 11  Periodicidad        6125 non-null   object \n",
      "dtypes: float64(1), int64(2), object(9)\n",
      "memory usage: 626.2+ KB\n"
>>>>>>> afcfc0b1cc48a93d22b352a4f6701d3963ff281f
     ]
    }
   ],
   "source": [
    "fuentes_new.info()"
   ]
  },
  {
   "cell_type": "code",
<<<<<<< HEAD
   "execution_count": 25,
   "metadata": {
    "id": "qdW6ApmXNbJT"
   },
   "outputs": [],
   "source": [
    "fuentes_new.drop(fuentes_new[fuentes_new.ID_INE.isin(geo_new.ID_INE) ].index, inplace = True)\n",
    "fuentes_new = fuentes_new.reset_index()"
=======
   "execution_count": 76,
   "metadata": {
    "id": "_-T82gltF534"
   },
   "outputs": [],
   "source": [
    "# Eliminar duplicados por nombre y dirección\n",
    "fuentes_new = fuentes_new.sort_values([\"Periodicidad\"]).drop_duplicates(subset = [\"NOMBRE_FUENTE\",\"DIRECCION\"],keep=\"first\")"
>>>>>>> afcfc0b1cc48a93d22b352a4f6701d3963ff281f
   ]
  },
  {
   "cell_type": "code",
<<<<<<< HEAD
   "execution_count": 26,
   "metadata": {
    "id": "C4Z22wA0g00h"
   },
   "outputs": [],
   "source": [
    "fuentes_new = fuentes_new.merge(periodicidad,how = 'left', on = 'ID_INE')"
   ]
  },
  {
   "cell_type": "code",
   "execution_count": 27,
   "metadata": {
    "id": "q2Uc69ynW-ox"
   },
   "outputs": [],
   "source": [
    "fuentes_new.to_excel('fuentes_faltan.xlsx')"
   ]
  },
  {
   "cell_type": "code",
   "execution_count": 28,
   "metadata": {
    "id": "nXt2NY90XBdh"
   },
   "outputs": [
    {
     "data": {
      "text/html": [
       "<div>\n",
       "<style scoped>\n",
       "    .dataframe tbody tr th:only-of-type {\n",
       "        vertical-align: middle;\n",
       "    }\n",
       "\n",
       "    .dataframe tbody tr th {\n",
       "        vertical-align: top;\n",
       "    }\n",
       "\n",
       "    .dataframe thead th {\n",
       "        text-align: right;\n",
       "    }\n",
       "</style>\n",
       "<table border=\"1\" class=\"dataframe\">\n",
       "  <thead>\n",
       "    <tr style=\"text-align: right;\">\n",
       "      <th></th>\n",
       "      <th>level_0</th>\n",
       "      <th>index_x</th>\n",
       "      <th>RegCod</th>\n",
       "      <th>DepCod</th>\n",
       "      <th>MunCod</th>\n",
       "      <th>FntCod</th>\n",
       "      <th>NOMBRE_FUENTE</th>\n",
       "      <th>DIRECCION</th>\n",
       "      <th>CANTIDAD_ARTICULOS</th>\n",
       "      <th>ID_INE</th>\n",
       "      <th>index_y</th>\n",
       "      <th>Periodicidad</th>\n",
       "    </tr>\n",
       "  </thead>\n",
       "  <tbody>\n",
       "    <tr>\n",
       "      <th>0</th>\n",
       "      <td>1</td>\n",
       "      <td>1</td>\n",
       "      <td>01</td>\n",
       "      <td>01</td>\n",
       "      <td>01</td>\n",
       "      <td>1004</td>\n",
       "      <td>POLLERIA NANCY                                ...</td>\n",
       "      <td>MDO. SAN JOSE MERCANTIL LOCAL 207             ...</td>\n",
       "      <td>1</td>\n",
       "      <td>01.01.01.1004.</td>\n",
       "      <td>228.0</td>\n",
       "      <td>01</td>\n",
       "    </tr>\n",
       "    <tr>\n",
       "      <th>1</th>\n",
       "      <td>2</td>\n",
       "      <td>2</td>\n",
       "      <td>01</td>\n",
       "      <td>01</td>\n",
       "      <td>01</td>\n",
       "      <td>1005</td>\n",
       "      <td>PESCADERIA SAN JOSE                           ...</td>\n",
       "      <td>MDO. SAN JOSE MERCANTIL LOCAL 42              ...</td>\n",
       "      <td>0</td>\n",
       "      <td>01.01.01.1005.</td>\n",
       "      <td>229.0</td>\n",
       "      <td>01</td>\n",
       "    </tr>\n",
       "    <tr>\n",
       "      <th>2</th>\n",
       "      <td>4</td>\n",
       "      <td>4</td>\n",
       "      <td>01</td>\n",
       "      <td>01</td>\n",
       "      <td>01</td>\n",
       "      <td>1014</td>\n",
       "      <td>SUPERMERCADO PAIZ ASUNCION - OTTO TOMAS / GERE...</td>\n",
       "      <td>DIAGONAL 14 20-55                             ...</td>\n",
       "      <td>1</td>\n",
       "      <td>01.01.01.1014.</td>\n",
       "      <td>231.0</td>\n",
       "      <td>01</td>\n",
       "    </tr>\n",
       "    <tr>\n",
       "      <th>3</th>\n",
       "      <td>15</td>\n",
       "      <td>15</td>\n",
       "      <td>01</td>\n",
       "      <td>01</td>\n",
       "      <td>01</td>\n",
       "      <td>1088</td>\n",
       "      <td>CLINICA DE REHABILITACION ESTETICA DE LA SONRI...</td>\n",
       "      <td>7AVE. 6-09 A ( DR. ROBERTO MELGAR )           ...</td>\n",
       "      <td>0</td>\n",
       "      <td>01.01.01.1088.</td>\n",
       "      <td>242.0</td>\n",
       "      <td>03</td>\n",
       "    </tr>\n",
       "    <tr>\n",
       "      <th>4</th>\n",
       "      <td>19</td>\n",
       "      <td>19</td>\n",
       "      <td>01</td>\n",
       "      <td>01</td>\n",
       "      <td>01</td>\n",
       "      <td>1131</td>\n",
       "      <td>SUPERMERCADO PAIZ MONTUFAR /  ELDER LOPEZ     ...</td>\n",
       "      <td>CENTRO COMERCIAL MONTUFAR  12 CALLE 0-93      ...</td>\n",
       "      <td>0</td>\n",
       "      <td>01.01.01.1131.</td>\n",
       "      <td>246.0</td>\n",
       "      <td>01</td>\n",
       "    </tr>\n",
       "    <tr>\n",
       "      <th>...</th>\n",
       "      <td>...</td>\n",
       "      <td>...</td>\n",
       "      <td>...</td>\n",
       "      <td>...</td>\n",
       "      <td>...</td>\n",
       "      <td>...</td>\n",
       "      <td>...</td>\n",
       "      <td>...</td>\n",
       "      <td>...</td>\n",
       "      <td>...</td>\n",
       "      <td>...</td>\n",
       "      <td>...</td>\n",
       "    </tr>\n",
       "    <tr>\n",
       "      <th>6161</th>\n",
       "      <td>12506</td>\n",
       "      <td>29874</td>\n",
       "      <td>08</td>\n",
       "      <td>17</td>\n",
       "      <td>03</td>\n",
       "      <td>2091</td>\n",
       "      <td>ACADEMIA DE MECANOGRAFIA SAGRADO CORAZON      ...</td>\n",
       "      <td>COLONIA ITZA, 1RA CALLE Y 4TA AVENIDA FTE A RE...</td>\n",
       "      <td>1</td>\n",
       "      <td>08.17.03.2091.</td>\n",
       "      <td>30386.0</td>\n",
       "      <td>05</td>\n",
       "    </tr>\n",
       "    <tr>\n",
       "      <th>6162</th>\n",
       "      <td>12507</td>\n",
       "      <td>29890</td>\n",
       "      <td>08</td>\n",
       "      <td>17</td>\n",
       "      <td>03</td>\n",
       "      <td>2127</td>\n",
       "      <td>COLEGIO EL SHADDAI                            ...</td>\n",
       "      <td>BARRIO EL PORVENIR, 2DA. CALLE 4-50 A 1 CUADRA...</td>\n",
       "      <td>4</td>\n",
       "      <td>08.17.03.2127.</td>\n",
       "      <td>30397.0</td>\n",
       "      <td>05</td>\n",
       "    </tr>\n",
       "    <tr>\n",
       "      <th>6163</th>\n",
       "      <td>12508</td>\n",
       "      <td>29896</td>\n",
       "      <td>08</td>\n",
       "      <td>17</td>\n",
       "      <td>01</td>\n",
       "      <td>2343</td>\n",
       "      <td>CENTRO EDUCATIVO DEL NAZARENO                 ...</td>\n",
       "      <td>4A. CALLE A 5-55, ATRAS DE SANATORIO PRIVADO A...</td>\n",
       "      <td>4</td>\n",
       "      <td>08.17.01.2343.</td>\n",
       "      <td>30069.0</td>\n",
       "      <td>05</td>\n",
       "    </tr>\n",
       "    <tr>\n",
       "      <th>6164</th>\n",
       "      <td>12509</td>\n",
       "      <td>29927</td>\n",
       "      <td>08</td>\n",
       "      <td>17</td>\n",
       "      <td>01</td>\n",
       "      <td>2681</td>\n",
       "      <td>SHEYLA ARENALES SOZA                          ...</td>\n",
       "      <td>CUIDAD FLORES AVENIDA. SANTA ANA A LA VUELTA D...</td>\n",
       "      <td>1</td>\n",
       "      <td>08.17.01.2681.</td>\n",
       "      <td>30123.0</td>\n",
       "      <td>05</td>\n",
       "    </tr>\n",
       "    <tr>\n",
       "      <th>6165</th>\n",
       "      <td>12510</td>\n",
       "      <td>29982</td>\n",
       "      <td>08</td>\n",
       "      <td>17</td>\n",
       "      <td>01</td>\n",
       "      <td>9173</td>\n",
       "      <td>JOBITA UCK                                    ...</td>\n",
       "      <td>CIUDAD DE FLORES AV. 15 DE MARZO FRENTE A TIKA...</td>\n",
       "      <td>1</td>\n",
       "      <td>08.17.01.9173.</td>\n",
       "      <td>30212.0</td>\n",
       "      <td>05</td>\n",
       "    </tr>\n",
       "  </tbody>\n",
       "</table>\n",
       "<p>6166 rows × 12 columns</p>\n",
       "</div>"
      ],
      "text/plain": [
       "      level_0  index_x RegCod DepCod MunCod FntCod  \\\n",
       "0           1        1     01     01     01   1004   \n",
       "1           2        2     01     01     01   1005   \n",
       "2           4        4     01     01     01   1014   \n",
       "3          15       15     01     01     01   1088   \n",
       "4          19       19     01     01     01   1131   \n",
       "...       ...      ...    ...    ...    ...    ...   \n",
       "6161    12506    29874     08     17     03   2091   \n",
       "6162    12507    29890     08     17     03   2127   \n",
       "6163    12508    29896     08     17     01   2343   \n",
       "6164    12509    29927     08     17     01   2681   \n",
       "6165    12510    29982     08     17     01   9173   \n",
       "\n",
       "                                          NOMBRE_FUENTE  \\\n",
       "0     POLLERIA NANCY                                ...   \n",
       "1     PESCADERIA SAN JOSE                           ...   \n",
       "2     SUPERMERCADO PAIZ ASUNCION - OTTO TOMAS / GERE...   \n",
       "3     CLINICA DE REHABILITACION ESTETICA DE LA SONRI...   \n",
       "4     SUPERMERCADO PAIZ MONTUFAR /  ELDER LOPEZ     ...   \n",
       "...                                                 ...   \n",
       "6161  ACADEMIA DE MECANOGRAFIA SAGRADO CORAZON      ...   \n",
       "6162  COLEGIO EL SHADDAI                            ...   \n",
       "6163  CENTRO EDUCATIVO DEL NAZARENO                 ...   \n",
       "6164  SHEYLA ARENALES SOZA                          ...   \n",
       "6165  JOBITA UCK                                    ...   \n",
       "\n",
       "                                              DIRECCION CANTIDAD_ARTICULOS  \\\n",
       "0     MDO. SAN JOSE MERCANTIL LOCAL 207             ...                  1   \n",
       "1     MDO. SAN JOSE MERCANTIL LOCAL 42              ...                  0   \n",
       "2     DIAGONAL 14 20-55                             ...                  1   \n",
       "3     7AVE. 6-09 A ( DR. ROBERTO MELGAR )           ...                  0   \n",
       "4     CENTRO COMERCIAL MONTUFAR  12 CALLE 0-93      ...                  0   \n",
       "...                                                 ...                ...   \n",
       "6161  COLONIA ITZA, 1RA CALLE Y 4TA AVENIDA FTE A RE...                  1   \n",
       "6162  BARRIO EL PORVENIR, 2DA. CALLE 4-50 A 1 CUADRA...                  4   \n",
       "6163  4A. CALLE A 5-55, ATRAS DE SANATORIO PRIVADO A...                  4   \n",
       "6164  CUIDAD FLORES AVENIDA. SANTA ANA A LA VUELTA D...                  1   \n",
       "6165  CIUDAD DE FLORES AV. 15 DE MARZO FRENTE A TIKA...                  1   \n",
       "\n",
       "              ID_INE  index_y Periodicidad  \n",
       "0     01.01.01.1004.    228.0           01  \n",
       "1     01.01.01.1005.    229.0           01  \n",
       "2     01.01.01.1014.    231.0           01  \n",
       "3     01.01.01.1088.    242.0           03  \n",
       "4     01.01.01.1131.    246.0           01  \n",
       "...              ...      ...          ...  \n",
       "6161  08.17.03.2091.  30386.0           05  \n",
       "6162  08.17.03.2127.  30397.0           05  \n",
       "6163  08.17.01.2343.  30069.0           05  \n",
       "6164  08.17.01.2681.  30123.0           05  \n",
       "6165  08.17.01.9173.  30212.0           05  \n",
       "\n",
       "[6166 rows x 12 columns]"
      ]
     },
     "execution_count": 28,
     "metadata": {},
     "output_type": "execute_result"
    }
   ],
   "source": [
    "fuentes_new"
=======
   "execution_count": 77,
   "metadata": {
    "id": "nXt2NY90XBdh"
   },
   "outputs": [],
   "source": [
    "# Escribir nuevo documento de excel\n",
    "cols = ['ID_INE','RegCod','DepCod','MunCod','FntCod','NOMBRE_FUENTE','DIRECCION','CANTIDAD_ARTICULOS','Periodicidad']\n",
    "fuentes_new.to_excel('fuentes_faltan.xlsx', columns=cols, index = False)"
   ]
  },
  {
   "cell_type": "code",
   "execution_count": 78,
   "metadata": {
    "scrolled": true
   },
   "outputs": [
    {
     "name": "stdout",
     "output_type": "stream",
     "text": [
      "<class 'pandas.core.frame.DataFrame'>\n",
      "Int64Index: 6151 entries, 0 to 6148\n",
      "Data columns (total 12 columns):\n",
      " #   Column              Non-Null Count  Dtype  \n",
      "---  ------              --------------  -----  \n",
      " 0   level_0             6151 non-null   int64  \n",
      " 1   index_x             6151 non-null   int64  \n",
      " 2   RegCod              6150 non-null   object \n",
      " 3   DepCod              6151 non-null   object \n",
      " 4   MunCod              6151 non-null   object \n",
      " 5   FntCod              6151 non-null   object \n",
      " 6   NOMBRE_FUENTE       6151 non-null   object \n",
      " 7   DIRECCION           6151 non-null   object \n",
      " 8   CANTIDAD_ARTICULOS  6151 non-null   object \n",
      " 9   ID_INE              6150 non-null   object \n",
      " 10  index_y             6115 non-null   float64\n",
      " 11  Periodicidad        6115 non-null   object \n",
      "dtypes: float64(1), int64(2), object(9)\n",
      "memory usage: 624.7+ KB\n"
     ]
    }
   ],
   "source": [
    "fuentes_new.info()"
>>>>>>> afcfc0b1cc48a93d22b352a4f6701d3963ff281f
   ]
  },
  {
   "cell_type": "code",
   "execution_count": null,
   "metadata": {},
   "outputs": [],
   "source": []
  }
 ],
 "metadata": {
  "colab": {
   "provenance": []
  },
  "kernelspec": {
   "display_name": "Python 3 (ipykernel)",
   "language": "python",
   "name": "python3"
  },
  "language_info": {
   "codemirror_mode": {
    "name": "ipython",
    "version": 3
   },
   "file_extension": ".py",
   "mimetype": "text/x-python",
   "name": "python",
   "nbconvert_exporter": "python",
   "pygments_lexer": "ipython3",
<<<<<<< HEAD
   "version": "3.10.8"
=======
   "version": "3.11.1"
>>>>>>> afcfc0b1cc48a93d22b352a4f6701d3963ff281f
  }
 },
 "nbformat": 4,
 "nbformat_minor": 1
}
